{
 "cells": [
  {
   "cell_type": "code",
   "execution_count": 37,
   "id": "quarterly-hours",
   "metadata": {},
   "outputs": [],
   "source": [
    "import numpy as np\n",
    "from og_mha_backend import ProjectMax1, normalizeColumns, AupdateNonDiag, AupdateDiag, ProjectNonNegative\n",
    "from MHA_backend import project_W, normalize_columns, update_A, project_non_negative"
   ]
  },
  {
   "cell_type": "code",
   "execution_count": 362,
   "id": "flying-escape",
   "metadata": {},
   "outputs": [],
   "source": [
    "a = np.random.rand(10000, 100)\n",
    "X = np.random.rand(5000, 10000)"
   ]
  },
  {
   "cell_type": "code",
   "execution_count": 363,
   "id": "alert-inventory",
   "metadata": {},
   "outputs": [],
   "source": [
    "a1 = a.copy()\n",
    "a2 = a.copy()"
   ]
  },
  {
   "cell_type": "code",
   "execution_count": 364,
   "id": "crazy-greene",
   "metadata": {},
   "outputs": [
    {
     "name": "stdout",
     "output_type": "stream",
     "text": [
      "CPU times: user 52.1 ms, sys: 14.1 ms, total: 66.1 ms\n",
      "Wall time: 56.5 ms\n"
     ]
    }
   ],
   "source": [
    "%%time\n",
    "b1 = ProjectMax1(a1)"
   ]
  },
  {
   "cell_type": "code",
   "execution_count": 365,
   "id": "statistical-darwin",
   "metadata": {},
   "outputs": [
    {
     "name": "stdout",
     "output_type": "stream",
     "text": [
      "CPU times: user 5.43 ms, sys: 0 ns, total: 5.43 ms\n",
      "Wall time: 4.87 ms\n"
     ]
    }
   ],
   "source": [
    "%%time\n",
    "b2 = project_W(a2)"
   ]
  },
  {
   "cell_type": "code",
   "execution_count": 366,
   "id": "lined-shelter",
   "metadata": {},
   "outputs": [
    {
     "data": {
      "text/plain": [
       "568.4442685685634"
      ]
     },
     "execution_count": 366,
     "metadata": {},
     "output_type": "execute_result"
    }
   ],
   "source": [
    "np.linalg.norm(a1 - a2)  "
   ]
  },
  {
   "cell_type": "code",
   "execution_count": 367,
   "id": "piano-template",
   "metadata": {},
   "outputs": [
    {
     "data": {
      "text/plain": [
       "0.0"
      ]
     },
     "execution_count": 367,
     "metadata": {},
     "output_type": "execute_result"
    }
   ],
   "source": [
    "np.linalg.norm(b1 - b2)  \n",
    "# => result: 0.0"
   ]
  },
  {
   "cell_type": "code",
   "execution_count": 7,
   "id": "sharing-industry",
   "metadata": {},
   "outputs": [],
   "source": [
    "a1 = a.copy()\n",
    "a2 = a.copy()"
   ]
  },
  {
   "cell_type": "code",
   "execution_count": 8,
   "id": "driven-fireplace",
   "metadata": {},
   "outputs": [
    {
     "name": "stdout",
     "output_type": "stream",
     "text": [
      "CPU times: user 25.9 ms, sys: 0 ns, total: 25.9 ms\n",
      "Wall time: 24.2 ms\n"
     ]
    }
   ],
   "source": [
    "%%time\n",
    "c1 = normalizeColumns(a1)"
   ]
  },
  {
   "cell_type": "code",
   "execution_count": 9,
   "id": "national-hypothetical",
   "metadata": {},
   "outputs": [
    {
     "name": "stdout",
     "output_type": "stream",
     "text": [
      "CPU times: user 4.49 ms, sys: 17 µs, total: 4.51 ms\n",
      "Wall time: 3.74 ms\n"
     ]
    }
   ],
   "source": [
    "%%time\n",
    "c2 = normalize_columns(a2)"
   ]
  },
  {
   "cell_type": "code",
   "execution_count": 10,
   "id": "indian-hostel",
   "metadata": {},
   "outputs": [
    {
     "data": {
      "text/plain": [
       "1.1866845793461653e-14"
      ]
     },
     "execution_count": 10,
     "metadata": {},
     "output_type": "execute_result"
    }
   ],
   "source": [
    "np.linalg.norm(c1 - c2)\n",
    "# => result: 1.4570046231790046e-14"
   ]
  },
  {
   "cell_type": "code",
   "execution_count": 11,
   "id": "controlled-recruitment",
   "metadata": {},
   "outputs": [],
   "source": [
    "a1 = a.copy()\n",
    "a2 = a.copy()"
   ]
  },
  {
   "cell_type": "code",
   "execution_count": 12,
   "id": "reflected-mission",
   "metadata": {},
   "outputs": [
    {
     "name": "stdout",
     "output_type": "stream",
     "text": [
      "CPU times: user 39.2 s, sys: 11.8 s, total: 51 s\n",
      "Wall time: 3.76 s\n"
     ]
    }
   ],
   "source": [
    "%%time\n",
    "cov = np.cov(X, rowvar=False)\n",
    "d1 = AupdateNonDiag(a1, cov)"
   ]
  },
  {
   "cell_type": "code",
   "execution_count": 13,
   "id": "opposed-watershed",
   "metadata": {},
   "outputs": [
    {
     "name": "stdout",
     "output_type": "stream",
     "text": [
      "CPU times: user 1.88 s, sys: 2.05 s, total: 3.92 s\n",
      "Wall time: 279 ms\n"
     ]
    }
   ],
   "source": [
    "%%time\n",
    "d2 = update_A(a2, X)"
   ]
  },
  {
   "cell_type": "code",
   "execution_count": 14,
   "id": "planned-accent",
   "metadata": {},
   "outputs": [
    {
     "data": {
      "text/plain": [
       "1.4832387638782345e-15"
      ]
     },
     "execution_count": 14,
     "metadata": {},
     "output_type": "execute_result"
    }
   ],
   "source": [
    "np.linalg.norm(d1 - d2)\n",
    "# => result: 1.4832387638782345e-15"
   ]
  },
  {
   "cell_type": "code",
   "execution_count": 19,
   "id": "organizational-behalf",
   "metadata": {},
   "outputs": [],
   "source": [
    "a1 = a.copy()\n",
    "a2 = a.copy()"
   ]
  },
  {
   "cell_type": "code",
   "execution_count": 20,
   "id": "chubby-ireland",
   "metadata": {},
   "outputs": [
    {
     "name": "stdout",
     "output_type": "stream",
     "text": [
      "CPU times: user 39 s, sys: 11.9 s, total: 50.9 s\n",
      "Wall time: 3.75 s\n"
     ]
    }
   ],
   "source": [
    "%%time\n",
    "cov = np.cov(X, rowvar=False)\n",
    "e1 = AupdateDiag(a1, cov)"
   ]
  },
  {
   "cell_type": "code",
   "execution_count": 21,
   "id": "turned-groove",
   "metadata": {},
   "outputs": [
    {
     "name": "stdout",
     "output_type": "stream",
     "text": [
      "CPU times: user 2.37 s, sys: 4.49 s, total: 6.85 s\n",
      "Wall time: 488 ms\n"
     ]
    }
   ],
   "source": [
    "%%time\n",
    "e2 = update_A(a2, X, diag=True)"
   ]
  },
  {
   "cell_type": "code",
   "execution_count": 22,
   "id": "worth-writing",
   "metadata": {},
   "outputs": [
    {
     "data": {
      "text/plain": [
       "1.9229626863835638e-16"
      ]
     },
     "execution_count": 22,
     "metadata": {},
     "output_type": "execute_result"
    }
   ],
   "source": [
    "np.linalg.norm(e1 - e2)\n",
    "# => result: 1.4832387638782345e-15"
   ]
  },
  {
   "cell_type": "code",
   "execution_count": 24,
   "id": "clear-indication",
   "metadata": {},
   "outputs": [],
   "source": [
    "import numpy as np\n",
    "def armijo_obj_slow(W, X, A):\n",
    "    # expects the following dims:\n",
    "    # W: (p, k)\n",
    "    # X: (N, n, p)\n",
    "    # A: (N, k, k)\n",
    "    tmp = (X - X.mean(1)[:, None, :]).dot(W) / np.sqrt(X.shape[1])\n",
    "    return np.einsum('Nnk,Nnl,Nlj->Nkj', tmp, tmp, A, optimize='greedy').sum()\n",
    "def armijo_obj(W, X, A):\n",
    "    obj = 0\n",
    "#     for i in range(X.shape[0]):\n",
    "#         tmp = (X[i] - X[i].mean(0)).dot(W) / np.sqrt(X[i].shape[0])\n",
    "#         obj += tmp.T.dot(tmp).dot(A[i]).sum()\n",
    "    for x, a in zip(X, A):\n",
    "        tmp = (x - x.mean(0)).dot(W) / np.sqrt(x.shape[0] - 1)\n",
    "        obj += np.trace(tmp.T.dot(tmp).dot(a))\n",
    "    return obj\n",
    "def armijo_obj_single(W, x, a):\n",
    "    tmp = (x - x.mean(0)).dot(W) / np.sqrt(x.shape[0] - 1)\n",
    "    return np.trace(tmp.T.dot(tmp).dot(a))\n",
    "def armijo_old_single(W, c, a):\n",
    "    return np.diag(W.T.dot(c).dot(W).dot(a)).sum()"
   ]
  },
  {
   "cell_type": "code",
   "execution_count": 33,
   "id": "other-knitting",
   "metadata": {},
   "outputs": [],
   "source": [
    "N = 10\n",
    "x = np.random.rand(N, 500, 1000) # (N, n, p)\n",
    "a = np.random.rand(N, 100, 100) # (N, k, k)\n",
    "w = np.random.rand(1000, 100) # (p, k)\n",
    "c = [np.cov(x[i], rowvar=False) for i in range(N)]\n",
    "grad = np.random.rand(1000, 100) # (p, k)"
   ]
  },
  {
   "cell_type": "code",
   "execution_count": 26,
   "id": "knowing-animation",
   "metadata": {},
   "outputs": [
    {
     "name": "stdout",
     "output_type": "stream",
     "text": [
      "CPU times: user 502 ms, sys: 347 ms, total: 848 ms\n",
      "Wall time: 62.9 ms\n"
     ]
    }
   ],
   "source": [
    "%%time\n",
    "obj1 = 0\n",
    "for i in range(N):\n",
    "    obj1 += armijo_old_single(w, c[i], a[i])"
   ]
  },
  {
   "cell_type": "code",
   "execution_count": 27,
   "id": "pregnant-roots",
   "metadata": {},
   "outputs": [
    {
     "name": "stdout",
     "output_type": "stream",
     "text": [
      "CPU times: user 163 ms, sys: 520 ms, total: 683 ms\n",
      "Wall time: 52.2 ms\n"
     ]
    }
   ],
   "source": [
    "%%time\n",
    "obj2 = armijo_obj(w, x, a)"
   ]
  },
  {
   "cell_type": "code",
   "execution_count": 30,
   "id": "involved-syndication",
   "metadata": {},
   "outputs": [
    {
     "name": "stdout",
     "output_type": "stream",
     "text": [
      "CPU times: user 236 ms, sys: 322 ms, total: 557 ms\n",
      "Wall time: 41.2 ms\n"
     ]
    }
   ],
   "source": [
    "%%time\n",
    "obj3 = 0\n",
    "for i in range(N):\n",
    "    obj3 += armijo_obj_single(w, x[i], a[i])"
   ]
  },
  {
   "cell_type": "code",
   "execution_count": 32,
   "id": "flexible-million",
   "metadata": {},
   "outputs": [
    {
     "name": "stdout",
     "output_type": "stream",
     "text": [
      "0.0\n",
      "0.0\n"
     ]
    }
   ],
   "source": [
    "print(obj3 - obj1)\n",
    "print(obj2 - obj1)\n",
    "# result: 0.0"
   ]
  },
  {
   "cell_type": "code",
   "execution_count": 276,
   "id": "alert-jordan",
   "metadata": {},
   "outputs": [],
   "source": [
    "def armijo_old(W, Wgrad, Gtilde, Shat, alpha=0.5, c=0.001, maxIter=1000):\n",
    "    nSub = len(Shat)\n",
    "    stopBackTracking = False\n",
    "    Wgrad = normalizeColumns(Wgrad)\n",
    "    iterCount = 1\n",
    "\n",
    "    while stopBackTracking == False:\n",
    "        Wnew = W - alpha * Wgrad\n",
    "#         Wnew = ProjectNonNegative(Wnew)\n",
    "#         Wnew = normalizeColumns(Wnew)  \n",
    "\n",
    "        currObj = 0\n",
    "        newObj = 0\n",
    "        for i in range(nSub):  # TODO: what is this obj??\n",
    "            currObj += np.diag(W.T.dot(Shat[i]).dot(W).dot(Gtilde[i])).sum()\n",
    "            newObj += np.diag(Wnew.T.dot(Shat[i]).dot(Wnew).dot(Gtilde[i])).sum()\n",
    "\n",
    "        m = c * np.diag(Wgrad.T.dot(Wnew - W)).sum()\n",
    "\n",
    "#         print(\"obj\", currObj)\n",
    "#         print(\"new_obj\", newObj)\n",
    "#         print(\"m\", m)\n",
    "        \n",
    "        if newObj <= currObj + m:\n",
    "            stopBackTracking = (\n",
    "                True  # TODO: why the center diag and the 0.001 and the Wnew-W\n",
    "            )\n",
    "        else:\n",
    "            alpha /= 2\n",
    "            iterCount += 1\n",
    "            if iterCount > maxIter:\n",
    "                stopBackTracking = True\n",
    "    print(iterCount)\n",
    "    return Wnew\n",
    "\n",
    "def armijo_new(W, grad, A, X, alpha=.5, c=.001, tau=.5, max_iter=1000):\n",
    "    grad = normalize_columns(grad)\n",
    "    i = 1\n",
    "    while True:\n",
    "        W_new = W - alpha * grad\n",
    "#         W_new = normalize_columns(project_non_negative(W_new))\n",
    "\n",
    "        obj = armijo_obj(W, X, A)\n",
    "        obj_new = armijo_obj(W_new, X, A)\n",
    "#         m = c * alpha * (np.trace(grad.T.dot(W_new-W)) + 0.001)\n",
    "        m = - c * alpha * np.linalg.norm(grad)**2\n",
    "\n",
    "#         print(\"obj\", obj)\n",
    "#         print(\"new_obj\", obj_new)\n",
    "#         print(\"m\", m)\n",
    "\n",
    "        if obj_new <= obj + m:\n",
    "            break\n",
    "        alpha *= tau\n",
    "        i += 1\n",
    "        if i > max_iter:\n",
    "            break\n",
    "    print(i)\n",
    "    return W_new"
   ]
  },
  {
   "cell_type": "code",
   "execution_count": 111,
   "id": "equivalent-seattle",
   "metadata": {},
   "outputs": [
    {
     "name": "stdout",
     "output_type": "stream",
     "text": [
      "obj 1018345.1648557438\n",
      "new_obj 963518.2838584745\n",
      "m -4.990005000000001\n",
      "1\n",
      "CPU times: user 912 ms, sys: 878 ms, total: 1.79 s\n",
      "Wall time: 130 ms\n"
     ]
    }
   ],
   "source": [
    "%%time\n",
    "ar1 = armijo_old(w, grad, a, c)"
   ]
  },
  {
   "cell_type": "code",
   "execution_count": 112,
   "id": "fourth-idaho",
   "metadata": {},
   "outputs": [
    {
     "name": "stdout",
     "output_type": "stream",
     "text": [
      "obj 1018345.1648557438\n",
      "new_obj 963518.2838584747\n",
      "m -4.990004999999999\n",
      "1\n",
      "CPU times: user 415 ms, sys: 960 ms, total: 1.38 s\n",
      "Wall time: 94.9 ms\n"
     ]
    }
   ],
   "source": [
    "%%time\n",
    "ar2 = armijo_new(w, grad, a, x)"
   ]
  },
  {
   "cell_type": "code",
   "execution_count": 109,
   "id": "proprietary-business",
   "metadata": {},
   "outputs": [
    {
     "data": {
      "text/plain": [
       "5.260248426533897e-15"
      ]
     },
     "execution_count": 109,
     "metadata": {},
     "output_type": "execute_result"
    }
   ],
   "source": [
    "np.linalg.norm(ar1 - ar2)"
   ]
  },
  {
   "cell_type": "code",
   "execution_count": 267,
   "id": "brown-renaissance",
   "metadata": {},
   "outputs": [],
   "source": [
    "def init_W(X, k):\n",
    "    p = X[0].shape[1]\n",
    "    mean_cov = np.zeros((p, p))  # mean covariance across all subjects\n",
    "    for i in range(len(X)):\n",
    "        mean_cov += (1.0 / len(X)) * np.cov(X[i], rowvar=False)\n",
    "    eig_vals, eig_vecs = np.linalg.eig(mean_cov)\n",
    "    idx = eig_vals.argsort()[::-1][:k]\n",
    "    W = eig_vecs[:, idx]\n",
    "#     for i in range(W.shape[1]):\n",
    "#         if np.sum(W[:, i]) < 0:\n",
    "#             W[:, i] *= -1\n",
    "#     TODO: is the sign flip necessary?\n",
    "    W = W * (2 * (W.sum(0) >= 0) - 1)\n",
    "    return W\n",
    "\n",
    "def init_old(Shat, k):\n",
    "    p = Shat[0].shape[0]\n",
    "    nSub = len(Shat)\n",
    "    ShatMean = np.zeros((p, p))  # mean covariance across all subjects\n",
    "    for i in range(nSub):\n",
    "        ShatMean += (1.0 / nSub) * Shat[i]\n",
    "    # initialize W to eigenvalues of ShatMean\n",
    "    evdShat = np.linalg.eig(ShatMean)\n",
    "    W = evdShat[1][:, evdShat[0].argsort()[::-1][:k]]\n",
    "    for i in range(W.shape[1]):\n",
    "        if np.sum(W[:, i]) < 0:\n",
    "            W[:, i] *= -1\n",
    "    return W\n",
    "def efficient_gradJ(W, X, AA):\n",
    "    \"\"\"a fast and memory efficient implementation of cov(X).dot(W).dot(AA)\"\"\"\n",
    "    X_tilde = (X - X.mean(0)) / np.sqrt(X.shape[0] - 1)\n",
    "    tmp = X_tilde.dot(W)\n",
    "    tmp = tmp.dot(AA)\n",
    "    return X_tilde.T.dot(tmp)\n",
    "def efficient_WTcovW(W, X):\n",
    "    \"\"\"a fast and memory efficient implementation of W.T.dot(cov(X)).dot(W)\"\"\"\n",
    "    tmp = (X - X.mean(0)).dot(W) / np.sqrt(X.shape[0] - 1)\n",
    "    return tmp.T.dot(tmp)\n",
    "def update_G(W, X, diag=False):\n",
    "    tmp = efficient_WTcovW(W, X)\n",
    "    if diag:\n",
    "        tmp = np.diage(np.diag(tmp))\n",
    "    return tmp - np.eye(W.shape[1])"
   ]
  },
  {
   "cell_type": "code",
   "execution_count": 229,
   "id": "institutional-enterprise",
   "metadata": {},
   "outputs": [],
   "source": [
    "wi1 = init_W(x, 5)"
   ]
  },
  {
   "cell_type": "code",
   "execution_count": 230,
   "id": "activated-enclosure",
   "metadata": {},
   "outputs": [],
   "source": [
    "wi2 = init_old(c, 5)"
   ]
  },
  {
   "cell_type": "code",
   "execution_count": 231,
   "id": "affiliated-maine",
   "metadata": {},
   "outputs": [
    {
     "data": {
      "text/plain": [
       "0.0"
      ]
     },
     "execution_count": 231,
     "metadata": {},
     "output_type": "execute_result"
    }
   ],
   "source": [
    "np.linalg.norm(wi1 - wi2)"
   ]
  },
  {
   "cell_type": "code",
   "execution_count": 351,
   "id": "fatal-amendment",
   "metadata": {},
   "outputs": [],
   "source": [
    "def optimize_new(X, k, diag=False, rho=1, tol=0.01, alpha=0.5, c=0.01, max_iter=1000):\n",
    "    N = len(X)\n",
    "    # define initial parameters:\n",
    "    Lambda = np.zeros((k, k))\n",
    "    W = init_W(X, k)\n",
    "    W_old = np.copy(W)\n",
    "    W = project_non_negative(W)\n",
    "    \n",
    "    A = [update_A(W, X[i], diag=diag) for i in range(N)]\n",
    "    \n",
    "#     for n_iters in range(max_iter):\n",
    "#         # -------- update W matrix --------\n",
    "#         # first compute A\n",
    "    AA = [0.5 * a.dot(a) - a for a in A]\n",
    "\n",
    "#         # compute gradient of SM objective with respect to W\n",
    "    grad = np.zeros(W.shape)\n",
    "    for i in range(N):\n",
    "        # TODO: why divide by N?\n",
    "        grad += efficient_gradJ(W, X[i], AA[i]) / N\n",
    "    grad += rho * (W.dot(W.T.dot(W) - np.eye(k) + Lambda / rho))\n",
    "    # compute armijo update:\n",
    "    W = armijo_new(W, grad, AA, X, alpha=alpha, c=c)\n",
    "    W = normalize_columns(project_non_negative(W))  # to ensure non-negativity\n",
    "\n",
    "    Lambda = Lambda + rho * (W.T.dot(W) - np.eye(k))\n",
    "    A = [update_A(normalize_columns(project_W(W)), X[i], diag=diag) for i in range(N)]\n",
    "\n",
    "#         if np.linalg.norm(W - W_old) < tol:\n",
    "#             break\n",
    "#         else:\n",
    "#             W_old = np.copy(W)\n",
    "            \n",
    "    W = normalize_columns(project_W(W))\n",
    "    G = [update_G(W, X[i], diag=diag) for i in range(N)]\n",
    "\n",
    "#     return {\"W\": W, \"G\": G, \"n_iters\": n_iters}\n",
    "    return AA, W, G, A, Lambda\n",
    "\n",
    "def optimize_old(Shat, k=2, diagG=False, lagParam=1, tol=0.01, alphaArmijo=0.5, maxIter=1000):\n",
    "    # define initial parameters:\n",
    "    p = Shat[0].shape[0]\n",
    "    nSub = len(Shat)\n",
    "    ShatMean = np.zeros((p, p))  # mean covariance across all subjects\n",
    "    for i in range(nSub):\n",
    "        ShatMean += (1.0 / nSub) * Shat[i]\n",
    "    LagMult = np.zeros((k, k))\n",
    "\n",
    "    # initialize W to eigenvalues of ShatMean\n",
    "    evdShat = np.linalg.eig(ShatMean)\n",
    "    W = evdShat[1][:, evdShat[0].argsort()[::-1][:k]]\n",
    "    for i in range(W.shape[1]):\n",
    "        if np.sum(W[:, i]) < 0:\n",
    "            W[:, i] *= -1\n",
    "\n",
    "#     define convergence checks\n",
    "    Wold = np.copy(W)\n",
    "    W = ProjectNonNegative(W)\n",
    "\n",
    "    # define A matrices (related to latent var covariances)\n",
    "    if diagG:\n",
    "        A = [AupdateDiag(W, Shat[i]) for i in range(nSub)]\n",
    "    else:\n",
    "        A = [AupdateNonDiag(W, Shat[i]) for i in range(nSub)]\n",
    "\n",
    "    cArmijo = 0.01\n",
    "\n",
    "#     for iter_ in range(maxIter):\n",
    "#         # -------- update W matrix --------\n",
    "#         # first compute Atilde\n",
    "    AtildeAll = [0.5 * Amat.dot(Amat) - Amat for Amat in A]\n",
    "#         # compute gradient of SM objective with respect to W\n",
    "    Wgrad = np.zeros(W.shape)\n",
    "    for i in range(nSub):\n",
    "        Wgrad += Shat[i].dot(W).dot(AtildeAll[i]) / float(\n",
    "            nSub\n",
    "        )  # TODO: why divide by N?\n",
    "    Wgrad += lagParam * (W.dot(W.T).dot(W) - W) + W.dot(LagMult)\n",
    "    # compute armijo update:\n",
    "    W = armijo_old(W=W, Wgrad=Wgrad, Gtilde=AtildeAll, Shat=Shat,\n",
    "        alpha=alphaArmijo,\n",
    "        c=cArmijo,)\n",
    "    W = ProjectNonNegative(W)  # to ensure non-negativity\n",
    "    W = normalizeColumns(W)\n",
    "\n",
    "    # -------- update A matrices --------\n",
    "#     if diagG:\n",
    "#         A = [\n",
    "#             AupdateDiag(normalizeColumns(ProjectMax1(W)), Shat[i])\n",
    "#             for i in range(nSub)\n",
    "#         ]\n",
    "#     else:\n",
    "#         A = [\n",
    "#             AupdateNonDiag(normalizeColumns(ProjectMax1(W)), Shat[i])\n",
    "#             for i in range(nSub)\n",
    "#         ]\n",
    "\n",
    "    # -------- update Lagrange multipler --------\n",
    "    LagMult = LagMult + lagParam * (W.T.dot(W) - np.eye(k))\n",
    "\n",
    "        # -------- check for convergence --------\n",
    "#         if np.sum(np.abs(W - Wold)) < tol:\n",
    "#             break\n",
    "#         else:\n",
    "#             Wold = np.copy(W)\n",
    "\n",
    "    # compute final matrices\n",
    "    W = normalizeColumns(ProjectMax1(W))\n",
    "    # compute G (latent variable covariances)\n",
    "    if diagG:\n",
    "        G = [np.diag(np.diag(W.T.dot(Shat[i]).dot(W))) - np.eye(k) for i in range(nSub)]\n",
    "    else:\n",
    "        G = [W.T.dot(Shat[i]).dot(W) - np.eye(k) for i in range(nSub)]\n",
    "\n",
    "#     return {\"W\": W, \"G\": G, \"iter\": iter_}\n",
    "    return AtildeAll, W, G, A, LagMult\n"
   ]
  },
  {
   "cell_type": "code",
   "execution_count": 352,
   "id": "chronic-austin",
   "metadata": {},
   "outputs": [
    {
     "name": "stdout",
     "output_type": "stream",
     "text": [
      "1\n"
     ]
    }
   ],
   "source": [
    "AA1, ww1, gg1, A1, L1 = optimize_new(X=x, k=5, diag=False, \n",
    "                         rho=1, tol=0.01, alpha=0.5, c=0.01, max_iter=1)"
   ]
  },
  {
   "cell_type": "code",
   "execution_count": 353,
   "id": "insured-marks",
   "metadata": {},
   "outputs": [
    {
     "name": "stdout",
     "output_type": "stream",
     "text": [
      "1\n"
     ]
    }
   ],
   "source": [
    "AA2, ww2, gg2, A2, L2 = optimize_old(Shat=c, k=5, diagG=False, \n",
    "                         lagParam=1, tol=0.01, alphaArmijo=0.5, maxIter=1)"
   ]
  },
  {
   "cell_type": "code",
   "execution_count": 354,
   "id": "talented-orlando",
   "metadata": {},
   "outputs": [
    {
     "data": {
      "text/plain": [
       "48.076075771672535"
      ]
     },
     "execution_count": 354,
     "metadata": {},
     "output_type": "execute_result"
    }
   ],
   "source": [
    "np.linalg.norm(np.array(A1) - np.array(A2))"
   ]
  },
  {
   "cell_type": "code",
   "execution_count": 355,
   "id": "molecular-cocktail",
   "metadata": {},
   "outputs": [
    {
     "data": {
      "text/plain": [
       "7.75319223537933e-13"
      ]
     },
     "execution_count": 355,
     "metadata": {},
     "output_type": "execute_result"
    }
   ],
   "source": [
    "np.linalg.norm(np.array(AA1) - np.array(AA2))"
   ]
  },
  {
   "cell_type": "code",
   "execution_count": 356,
   "id": "royal-brooks",
   "metadata": {},
   "outputs": [
    {
     "data": {
      "text/plain": [
       "1.3665861539295074e-15"
      ]
     },
     "execution_count": 356,
     "metadata": {},
     "output_type": "execute_result"
    }
   ],
   "source": [
    "np.linalg.norm(ww1 - ww2)"
   ]
  },
  {
   "cell_type": "code",
   "execution_count": 357,
   "id": "respective-boards",
   "metadata": {},
   "outputs": [
    {
     "data": {
      "text/plain": [
       "5.25821958036673e-16"
      ]
     },
     "execution_count": 357,
     "metadata": {},
     "output_type": "execute_result"
    }
   ],
   "source": [
    "np.linalg.norm(np.array(gg1) - np.array(gg2))"
   ]
  },
  {
   "cell_type": "code",
   "execution_count": 358,
   "id": "emerging-capacity",
   "metadata": {},
   "outputs": [
    {
     "data": {
      "text/plain": [
       "1.2281646194399523e-15"
      ]
     },
     "execution_count": 358,
     "metadata": {},
     "output_type": "execute_result"
    }
   ],
   "source": [
    "np.linalg.norm(L1 - L2)"
   ]
  },
  {
   "cell_type": "code",
   "execution_count": null,
   "id": "progressive-review",
   "metadata": {},
   "outputs": [],
   "source": []
  },
  {
   "cell_type": "code",
   "execution_count": null,
   "id": "horizontal-problem",
   "metadata": {},
   "outputs": [],
   "source": []
  },
  {
   "cell_type": "code",
   "execution_count": null,
   "id": "behind-bermuda",
   "metadata": {},
   "outputs": [],
   "source": []
  }
 ],
 "metadata": {
  "kernelspec": {
   "display_name": "Python 3",
   "language": "python",
   "name": "python3"
  },
  "language_info": {
   "codemirror_mode": {
    "name": "ipython",
    "version": 3
   },
   "file_extension": ".py",
   "mimetype": "text/x-python",
   "name": "python",
   "nbconvert_exporter": "python",
   "pygments_lexer": "ipython3",
   "version": "3.8.7"
  }
 },
 "nbformat": 4,
 "nbformat_minor": 5
}
